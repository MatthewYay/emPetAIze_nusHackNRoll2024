{
 "cells": [
  {
   "cell_type": "code",
   "execution_count": 1,
   "metadata": {},
   "outputs": [],
   "source": [
    "# These codes were solely written by MATTHEW NG WEI CHEN during the Hack&Roll 2024 hackathon, which was graciously organised by NUS Hackers!\n",
    "# I deeply thank their team for giving me this wonderful opportunity to showcase my passion project. The event really means a lot to me.\n",
    "# Also, if you are referencing my work, please credit me:\n",
    "# GitHub : @MatthewYay\n",
    "# LinkedIn : https://www.linkedin.com/in/matthew-ng-wc/"
   ]
  },
  {
   "cell_type": "code",
   "execution_count": 2,
   "metadata": {},
   "outputs": [
    {
     "name": "stdout",
     "output_type": "stream",
     "text": [
      "WARNING:tensorflow:From c:\\Users\\matth\\AppData\\Local\\Programs\\Python\\Python310\\lib\\site-packages\\keras\\src\\losses.py:2976: The name tf.losses.sparse_softmax_cross_entropy is deprecated. Please use tf.compat.v1.losses.sparse_softmax_cross_entropy instead.\n",
      "\n"
     ]
    }
   ],
   "source": [
    "from IPython.display import clear_output  #removing the display of graphs\n",
    "from nltk.chat.util import Chat  #Creating simple chatbots using Natural Language Toolkit library\n",
    "import matplotlib.pyplot as plt  #for creating various types of plots\n",
    "import numpy as np  #reading and processing large multidimensional arrays and matrices\n",
    "import re  #supports regular expressions (for pattern-matching, text manipulation, etc)\n",
    "import random  #generating random numbers / making random selections\n",
    "import pandas as pd  #data manipulation / analysis through DataFrames\n",
    "from keras.utils import to_categorical  #converts integer labels into one-hot encoded vectors\n",
    "import keras  #deep-learning framework providing an interface for building & training neural networks\n",
    "from keras.preprocessing.text import Tokenizer  #For text preprocessing (e.g. converting text into sequences of integers)\n",
    "from keras.preprocessing.sequence import pad_sequences  #ensures all sequences are of same lengths through padding / truncating\n",
    "from keras.models import Sequential  #builds neural networks layer by layer, in sequence\n",
    "import os  #maybe not needed just trying\n",
    "from sklearn.metrics import classification_report  #generates report of precision, recall, F1-score & support for every class\n",
    "import scikitplot  #helps visualize classification results\n",
    "from keras.layers import LSTM,Bidirectional, Dense, Embedding, Dropout  #imports specific layers as building blocks in neural networks. LSTM is recurrent, Bidirectional wraps another layer to make it go 2 ways, Dense is a fully connected layer, Embedding embeds words, Dropout is a regularization layer.\n",
    "from scikitplot.metrics import plot_confusion_matrix  #evaluates performance of classification model"
   ]
  },
  {
   "cell_type": "code",
   "execution_count": 3,
   "metadata": {},
   "outputs": [],
   "source": [
    "# Storing contents of test.txt and train.txt into dataframes\n",
    "dataframeTest = pd.read_csv(\"test.txt\",header=None,sep=\";\",names=[\"Text\", \"Sentiment\"],encoding=\"utf-8\")\n",
    "dataframeTrain = pd.read_csv(\"train.txt\",header=None,sep=\";\",names=[\"Text\", \"Sentiment\"],encoding=\"utf-8\")"
   ]
  },
  {
   "cell_type": "code",
   "execution_count": 4,
   "metadata": {},
   "outputs": [],
   "source": [
    "# converting column names into numbers, contain values of dataframe's text column in a variable\n",
    "dataframeTrain[\"Sentiment\"] = dataframeTrain.Sentiment.replace({\"joy\":0,\"anger\":1,\"love\":2,\"sadness\":3,\"fear\":4,\"surprise\":5})\n",
    "dataframeTrainTextColumn = dataframeTrain[\"Text\"]"
   ]
  },
  {
   "cell_type": "code",
   "execution_count": 5,
   "metadata": {},
   "outputs": [],
   "source": [
    "# tokenizer has vocab size of 15212 lower-case words. Words not in this dictionary will be given a \"UNK\" token\n",
    "# tokenizer is fitted on dataframe's text data. Tokenizer's internal vocab is built on frequency of words.\n",
    "tokenizer = Tokenizer(15212,lower=True,oov_token=\"UNK\")\n",
    "tokenizer.fit_on_texts(dataframeTrainTextColumn)"
   ]
  },
  {
   "cell_type": "code",
   "execution_count": 6,
   "metadata": {},
   "outputs": [],
   "source": [
    "#converts textual data in df into sequences of tokens. Thereafter, they are padded with zeros to ensure all sequences are the same length.\n",
    "dataframeTrainTextColumn_train = tokenizer.texts_to_sequences(dataframeTrainTextColumn)\n",
    "dataframeTrainTextColumn_train_paded = pad_sequences(dataframeTrainTextColumn_train,maxlen=80,padding=\"post\")"
   ]
  },
  {
   "cell_type": "code",
   "execution_count": 7,
   "metadata": {},
   "outputs": [],
   "source": [
    "# Extracts & stores numerical sentiment labels. Then, they are converted into categorical form using one-hot encoding\n",
    "sentimentValues_train = dataframeTrain[\"Sentiment\"].values\n",
    "sentimentValues_train_categorized = to_categorical(sentimentValues_train)"
   ]
  },
  {
   "cell_type": "code",
   "execution_count": 8,
   "metadata": {},
   "outputs": [
    {
     "name": "stdout",
     "output_type": "stream",
     "text": [
      "WARNING:tensorflow:From c:\\Users\\matth\\AppData\\Local\\Programs\\Python\\Python310\\lib\\site-packages\\keras\\src\\backend.py:873: The name tf.get_default_graph is deprecated. Please use tf.compat.v1.get_default_graph instead.\n",
      "\n",
      "Model: \"sequential\"\n",
      "_________________________________________________________________\n",
      " Layer (type)                Output Shape              Param #   \n",
      "=================================================================\n",
      " embedding (Embedding)       (None, 80, 64)            973568    \n",
      "                                                                 \n",
      " dropout (Dropout)           (None, 80, 64)            0         \n",
      "                                                                 \n",
      " bidirectional (Bidirection  (None, 80, 160)           92800     \n",
      " al)                                                             \n",
      "                                                                 \n",
      " bidirectional_1 (Bidirecti  (None, 320)               410880    \n",
      " onal)                                                           \n",
      "                                                                 \n",
      " dense (Dense)               (None, 6)                 1926      \n",
      "                                                                 \n",
      "=================================================================\n",
      "Total params: 1479174 (5.64 MB)\n",
      "Trainable params: 1479174 (5.64 MB)\n",
      "Non-trainable params: 0 (0.00 Byte)\n",
      "_________________________________________________________________\n",
      "None\n"
     ]
    }
   ],
   "source": [
    "# creating sequential model with 64-dimensional embeddings, with drop-out rate of 0.6 to prevent overfitting, etc. Summary of it below.\n",
    "\n",
    "deepLearningModel = Sequential()\n",
    "deepLearningModel.add(Embedding(15212,64,input_length=80))\n",
    "deepLearningModel.add(Dropout(0.6))\n",
    "deepLearningModel.add(Bidirectional(LSTM(80,return_sequences=True)))\n",
    "deepLearningModel.add(Bidirectional(LSTM(160)))\n",
    "deepLearningModel.add(Dense(6,activation=\"softmax\"))\n",
    "\n",
    "print(deepLearningModel.summary())"
   ]
  },
  {
   "cell_type": "code",
   "execution_count": 9,
   "metadata": {},
   "outputs": [
    {
     "name": "stdout",
     "output_type": "stream",
     "text": [
      "WARNING:tensorflow:From c:\\Users\\matth\\AppData\\Local\\Programs\\Python\\Python310\\lib\\site-packages\\keras\\src\\optimizers\\__init__.py:309: The name tf.train.Optimizer is deprecated. Please use tf.compat.v1.train.Optimizer instead.\n",
      "\n"
     ]
    }
   ],
   "source": [
    "#for compiling neural network model with Adam optimizer & crossentropy function\n",
    "deepLearningModel.compile(optimizer=\"adam\",loss=\"categorical_crossentropy\",metrics=[\"accuracy\"])"
   ]
  },
  {
   "cell_type": "code",
   "execution_count": 10,
   "metadata": {},
   "outputs": [
    {
     "name": "stdout",
     "output_type": "stream",
     "text": [
      "Epoch 1/2\n",
      "WARNING:tensorflow:From c:\\Users\\matth\\AppData\\Local\\Programs\\Python\\Python310\\lib\\site-packages\\keras\\src\\utils\\tf_utils.py:492: The name tf.ragged.RaggedTensorValue is deprecated. Please use tf.compat.v1.ragged.RaggedTensorValue instead.\n",
      "\n",
      "WARNING:tensorflow:From c:\\Users\\matth\\AppData\\Local\\Programs\\Python\\Python310\\lib\\site-packages\\keras\\src\\engine\\base_layer_utils.py:384: The name tf.executing_eagerly_outside_functions is deprecated. Please use tf.compat.v1.executing_eagerly_outside_functions instead.\n",
      "\n",
      "500/500 [==============================] - 87s 162ms/step - loss: 1.2202 - accuracy: 0.5269\n",
      "Epoch 2/2\n",
      "500/500 [==============================] - 75s 150ms/step - loss: 0.4958 - accuracy: 0.8230\n"
     ]
    }
   ],
   "source": [
    "#here I train the modelby fitting it on padded tokenized sequences and categorical sentiment\n",
    "producingIterations = deepLearningModel.fit(dataframeTrainTextColumn_train_paded,sentimentValues_train_categorized,epochs=2)"
   ]
  },
  {
   "cell_type": "code",
   "execution_count": 11,
   "metadata": {},
   "outputs": [
    {
     "name": "stderr",
     "output_type": "stream",
     "text": [
      "c:\\Users\\matth\\AppData\\Local\\Programs\\Python\\Python310\\lib\\site-packages\\keras\\src\\engine\\training.py:3103: UserWarning: You are saving your model as an HDF5 file via `model.save()`. This file format is considered legacy. We recommend using instead the native Keras format, e.g. `model.save('my_model.keras')`.\n",
      "  saving_api.save_model(\n"
     ]
    }
   ],
   "source": [
    "#Saving trained deep learning model and its weights into separate files!\n",
    "deepLearningModel.save(\"deepLearningModel.h5\")\n",
    "deepLearningModel.save_weights(\"deepLearningModelWeights.h5\")"
   ]
  },
  {
   "cell_type": "code",
   "execution_count": 12,
   "metadata": {},
   "outputs": [],
   "source": [
    "#Extract textual data from Text \n",
    "test_X=dataframeTest[\"Text\"]\n",
    "test_Y=dataframeTest.Sentiment.replace({\"joy\":0,\"anger\":1,\"love\":2,\"sadness\":3,\"fear\":4,\"surprise\":5})"
   ]
  },
  {
   "cell_type": "code",
   "execution_count": 13,
   "metadata": {},
   "outputs": [],
   "source": [
    "#Converts test textual data into sequences of tokens using fitted tokenizer, then pad them with zeros\n",
    "test_X_tokens_f = tokenizer.texts_to_sequences(test_X)\n",
    "test_X_pads = pad_sequences(test_X_tokens_f,maxlen=80,padding=\"post\")"
   ]
  },
  {
   "cell_type": "code",
   "execution_count": 14,
   "metadata": {},
   "outputs": [],
   "source": [
    "#converting into categorical form using one-hot encoding\n",
    "testing_Y_and_f = to_categorical(test_Y)"
   ]
  },
  {
   "cell_type": "code",
   "execution_count": 15,
   "metadata": {},
   "outputs": [
    {
     "name": "stdout",
     "output_type": "stream",
     "text": [
      "63/63 [==============================] - 3s 30ms/step - loss: 0.3346 - accuracy: 0.8800\n"
     ]
    },
    {
     "data": {
      "text/plain": [
       "[0.33460965752601624, 0.8799999952316284]"
      ]
     },
     "execution_count": 15,
     "metadata": {},
     "output_type": "execute_result"
    }
   ],
   "source": [
    "# here are the loss values and accuracy of my model\n",
    "deepLearningModel.evaluate(test_X_pads,testing_Y_and_f)"
   ]
  },
  {
   "cell_type": "code",
   "execution_count": 16,
   "metadata": {},
   "outputs": [
    {
     "name": "stdout",
     "output_type": "stream",
     "text": [
      "63/63 [==============================] - 3s 32ms/step\n"
     ]
    }
   ],
   "source": [
    "#converting predicted sentiment labels from probability vectors into numbers, by selecting highest probability\n",
    "predicting_y = deepLearningModel.predict(test_X_pads)\n",
    "predicting_y = np.argmax(predicting_y,axis=1)"
   ]
  },
  {
   "cell_type": "code",
   "execution_count": 17,
   "metadata": {},
   "outputs": [
    {
     "data": {
      "text/plain": [
       "<Axes: title={'center': 'Confusion Matrix'}, xlabel='Predicted label', ylabel='True label'>"
      ]
     },
     "execution_count": 17,
     "metadata": {},
     "output_type": "execute_result"
    },
    {
     "data": {
      "image/png": "[encoded data removed]",
      "text/plain": [
       "<Figure size 640x480 with 2 Axes>"
      ]
     },
     "metadata": {},
     "output_type": "display_data"
    }
   ],
   "source": [
    "#confusion matrix analyzes model performance, compared to the real sentiment labels\n",
    "plot_confusion_matrix(test_Y,predicting_y)"
   ]
  },
  {
   "cell_type": "code",
   "execution_count": 18,
   "metadata": {},
   "outputs": [
    {
     "name": "stdout",
     "output_type": "stream",
     "text": [
      "              precision    recall  f1-score   support\n",
      "\n",
      "           0       0.90      0.93      0.92       695\n",
      "           1       0.98      0.73      0.84       275\n",
      "           2       0.71      0.74      0.73       159\n",
      "           3       0.89      0.96      0.93       581\n",
      "           4       0.82      0.93      0.87       224\n",
      "           5       0.84      0.41      0.55        66\n",
      "\n",
      "    accuracy                           0.88      2000\n",
      "   macro avg       0.86      0.78      0.80      2000\n",
      "weighted avg       0.88      0.88      0.88      2000\n",
      "\n"
     ]
    }
   ],
   "source": [
    "#Here is a report of my precision, recall & f1-score for all fields!\n",
    "print(classification_report(test_Y,predicting_y))"
   ]
  },
  {
   "cell_type": "code",
   "execution_count": 19,
   "metadata": {},
   "outputs": [],
   "source": [
    "#get_key converts numerical sentiment into its appropriate sentiment label.\n",
    "def get_key(value):\n",
    "    sentimentDictionary = {\"joy\":0,\"anger\":1,\"love\":2,\"sadness\":3,\"fear\":4,\"surprise\":5}\n",
    "    for i, j in sentimentDictionary.items():\n",
    "        if j==value:\n",
    "            return i"
   ]
  },
  {
   "cell_type": "code",
   "execution_count": 20,
   "metadata": {},
   "outputs": [],
   "source": [
    "#Predicting the sentiment label for new input sentence afterwards.\n",
    "def predict(sentence):\n",
    "    sentence_list = []\n",
    "    sentence_list.append(sentence)\n",
    "    modelPrediction = deepLearningModel.predict(pad_sequences((tokenizer.texts_to_sequences(sentence_list)),maxlen=80,padding=\"post\"))\n",
    "    modelPrediction = np.argmax(modelPrediction, axis=1)\n",
    "    predictedResult = get_key(modelPrediction)\n",
    "    return predictedResult"
   ]
  },
  {
   "cell_type": "code",
   "execution_count": 21,
   "metadata": {},
   "outputs": [
    {
     "name": "stdout",
     "output_type": "stream",
     "text": [
      "1/1 [==============================] - 0s 76ms/step\n",
      "User is angry.\n",
      "1/1 [==============================] - 0s 72ms/step\n",
      "User is angry.\n",
      "1/1 [==============================] - 0s 56ms/step\n",
      "User is angry.\n",
      "1/1 [==============================] - 0s 57ms/step\n",
      "User is sad\n",
      "1/1 [==============================] - 0s 57ms/step\n",
      "User is angry.\n",
      "1/1 [==============================] - 0s 53ms/step\n",
      "User is angry.\n",
      "1/1 [==============================] - 0s 56ms/step\n",
      "User is angry.\n",
      "1/1 [==============================] - 0s 55ms/step\n",
      "User is sad\n",
      "1/1 [==============================] - 0s 55ms/step\n",
      "User has quit\n"
     ]
    }
   ],
   "source": [
    "# doing some test cases in ipynb file before actually using my DL models on my actual emPetAIze app\n",
    "\n",
    "input_sentiment = input(\"Good day to you! :-) How are you feeling currently at this time?\")\n",
    "result = predict(input_sentiment)\n",
    "while input_sentiment != \"yadiyadiyada\":\n",
    "    if result == \"joy\":\n",
    "        print(\"User is joyful!\")\n",
    "    elif result == \"anger\":\n",
    "        print(\"User is angry.\")\n",
    "    elif result == \"love\":\n",
    "        print(\"Oh that's lovely\")\n",
    "    elif result == \"sadness\":\n",
    "        print(\"User is sad\")\n",
    "    elif result == \"fear\":\n",
    "        print(\"User is fearful\")\n",
    "    elif result == \"surprise\":\n",
    "        print(\"User feels surprised.\")\n",
    "    else:\n",
    "        print(\"User's emotion not recognized.\")\n",
    "\n",
    "    input_sentiment = input(\"Good day to you! :-) How are you feeling currently at this time?\")\n",
    "    result = predict(input_sentiment)\n",
    "\n",
    "print(\"User has quit\")\n",
    "\n",
    "# Whilst test cases here are mostly accurate, my model sometimes misinterprets inputs with positive connotations as having a negative sentiment. It is not 100% correct and accurate, as the dataset used for supervising the model is not big enough in my opinion.\n",
    "# But no worries. I will counteract this in my app by adding a layer of TextBlob / NLTK's SentimentIntensityAnalyzer, to doublecheck and further filter inputs according to their relevant sentiments."
   ]
  }
 ],
 "metadata": {
  "kernelspec": {
   "display_name": "Python 3",
   "language": "python",
   "name": "python3"
  },
  "language_info": {
   "codemirror_mode": {
    "name": "ipython",
    "version": 3
   },
   "file_extension": ".py",
   "mimetype": "text/x-python",
   "name": "python",
   "nbconvert_exporter": "python",
   "pygments_lexer": "ipython3",
   "version": "3.10.5"
  }
 },
 "nbformat": 4,
 "nbformat_minor": 2
}
